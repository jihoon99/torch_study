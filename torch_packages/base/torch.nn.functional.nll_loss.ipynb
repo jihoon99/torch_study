{
 "cells": [
  {
   "cell_type": "markdown",
   "id": "805c44f0-1eee-46d5-86c9-f1d23a589bfd",
   "metadata": {},
   "source": [
    "#### 이론\n",
    "https://gaussian37.github.io/dl-concept-nll_loss/\n",
    "\n",
    "#### 코드\n",
    "https://pytorch.org/docs/1.9.0/generated/torch.nn.functional.nll_loss.html"
   ]
  },
  {
   "cell_type": "code",
   "execution_count": 29,
   "id": "abd54963-885d-4d57-8ba6-229f5739d5db",
   "metadata": {},
   "outputs": [
    {
     "data": {
      "text/plain": [
       "tensor(-2.7564)"
      ]
     },
     "execution_count": 29,
     "metadata": {},
     "output_type": "execute_result"
    }
   ],
   "source": [
    "# log_prob = -F.nll_loss(\n",
    "#     y_hat.view(-1, output_size),\n",
    "#     indice.view(-1),\n",
    "#     ignore_index=data_loader.PAD,\n",
    "#     reduction='none'\n",
    "# ).view(batch_size, -1).sum(dim=-1)\n",
    "import torch\n",
    "from torch.nn import functional as F\n",
    "\n",
    "y_hat = F.log_softmax(torch.randn(64, 10, 10000), dim = 1)\n",
    "indice = torch.absolute(torch.round(torch.randn(64, 10)).long())\n",
    "\n",
    "-F.nll_loss(y_hat.view(-1, 10000), indice.view(-1))"
   ]
  },
  {
   "cell_type": "code",
   "execution_count": 33,
   "id": "1025f31e-deb1-487b-adcf-c69b2363840d",
   "metadata": {},
   "outputs": [],
   "source": [
    "s = []\n",
    "\n",
    "for idx,i in enumerate(indice.view(-1)):\n",
    "    s.append(y_hat.view(-1, 10000)[idx][i])"
   ]
  },
  {
   "cell_type": "code",
   "execution_count": 37,
   "id": "ff499ff0-870b-479a-ae7c-e7f4a1002782",
   "metadata": {},
   "outputs": [
    {
     "data": {
      "text/plain": [
       "tensor(-2.7564)"
      ]
     },
     "execution_count": 37,
     "metadata": {},
     "output_type": "execute_result"
    }
   ],
   "source": [
    "torch.stack(s).sum()/len(s)"
   ]
  },
  {
   "cell_type": "code",
   "execution_count": null,
   "id": "d5f0bff0-44f9-4923-b8d7-8051df5158c1",
   "metadata": {},
   "outputs": [],
   "source": []
  },
  {
   "cell_type": "code",
   "execution_count": null,
   "id": "3935b9a3-1061-4b99-8f58-89d550068614",
   "metadata": {},
   "outputs": [],
   "source": []
  },
  {
   "cell_type": "code",
   "execution_count": null,
   "id": "d396edb7-3225-4c49-8f23-eb82607122fb",
   "metadata": {},
   "outputs": [],
   "source": []
  },
  {
   "cell_type": "code",
   "execution_count": null,
   "id": "3188c36a-4414-444a-a27b-4f9cb0310ba9",
   "metadata": {},
   "outputs": [],
   "source": []
  },
  {
   "cell_type": "code",
   "execution_count": 2,
   "id": "2a82f9bf-f82b-42bd-bd0a-7e60f609d772",
   "metadata": {},
   "outputs": [
    {
     "name": "stderr",
     "output_type": "stream",
     "text": [
      "/var/folders/jk/t5vx8lsx1fs7nd9c58w611bh0000gn/T/ipykernel_80979/3982236952.py:5: UserWarning: Implicit dimension choice for log_softmax has been deprecated. Change the call to include dim=X as an argument.\n",
      "  output = F.nll_loss(F.log_softmax(input1), target)\n"
     ]
    }
   ],
   "source": [
    "# input is of size N x C = 3 x 5\n",
    "input1 = torch.randn(3, 5, requires_grad=True)\n",
    "# each element in target has to have 0 <= value < C\n",
    "target = torch.tensor([1, 0, 4])\n",
    "output = F.nll_loss(F.log_softmax(input1), target)\n",
    "output.backward()"
   ]
  },
  {
   "cell_type": "code",
   "execution_count": 14,
   "id": "3aa767eb-bff0-4d9c-ae01-8955ec1476dd",
   "metadata": {},
   "outputs": [
    {
     "data": {
      "text/plain": [
       "torch.Size([3, 5])"
      ]
     },
     "execution_count": 14,
     "metadata": {},
     "output_type": "execute_result"
    }
   ],
   "source": [
    "input1.shape"
   ]
  },
  {
   "cell_type": "code",
   "execution_count": 15,
   "id": "491b2319-e4eb-4fa1-89ea-861b77699b41",
   "metadata": {},
   "outputs": [
    {
     "data": {
      "text/plain": [
       "torch.Size([3])"
      ]
     },
     "execution_count": 15,
     "metadata": {},
     "output_type": "execute_result"
    }
   ],
   "source": [
    "target.shape"
   ]
  },
  {
   "cell_type": "code",
   "execution_count": null,
   "id": "6de6afa4-978c-4ac3-8b3f-eca49fd33823",
   "metadata": {},
   "outputs": [],
   "source": []
  }
 ],
 "metadata": {
  "kernelspec": {
   "display_name": "Python 3 (ipykernel)",
   "language": "python",
   "name": "python3"
  },
  "language_info": {
   "codemirror_mode": {
    "name": "ipython",
    "version": 3
   },
   "file_extension": ".py",
   "mimetype": "text/x-python",
   "name": "python",
   "nbconvert_exporter": "python",
   "pygments_lexer": "ipython3",
   "version": "3.8.6"
  }
 },
 "nbformat": 4,
 "nbformat_minor": 5
}
