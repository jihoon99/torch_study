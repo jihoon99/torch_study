{
 "cells": [
  {
   "cell_type": "code",
   "execution_count": null,
   "id": "51876561-2d31-4423-b2b7-93242caca360",
   "metadata": {},
   "outputs": [],
   "source": [
    "https://labs.quansight.org/blog/2020/09/pytorch-ignite/"
   ]
  },
  {
   "cell_type": "code",
   "execution_count": null,
   "id": "1ce3a041-9c9d-4c0b-82b2-03de3d556541",
   "metadata": {},
   "outputs": [],
   "source": [
    "from ignite.engine import Events, create_supervised_trainer, create_supervised_evaluator\n",
    "from ignite.metrics import Accuracy, Loss\n",
    "\n",
    "model = Net()\n",
    "train_loader, val_loader = get_data_loaders(train_batch_size, val_batch_size)\n",
    "optimizer = torch.optim.SGD(model.parameters(), lr=0.01, momentum=0.8)\n",
    "criterion = nn.NLLLoss()\n",
    "\n",
    "# define train engine\n",
    "trainer = create_supervised_trainer(model, optimizer, criterion)\n",
    "\n",
    "# define val_metrics functions\n",
    "val_metrics = {\n",
    "    \"accuracy\": Accuracy(),\n",
    "    \"nll\": Loss(criterion)\n",
    "}\n",
    "\n",
    "# define evaluator\n",
    "evaluator = create_supervised_evaluator(model, metrics=val_metrics)\n",
    "\n",
    "@trainer.on(Events.ITERATION_COMPLETED(every=log_interval)) # log_interval : \"how many batches to wait before logging training status\"\n",
    "def log_training_loss(trainer):\n",
    "    print(f\"Epoch[{trainer.state.epoch}] Loss: {trainer.state.output:.2f}\")"
   ]
  }
 ],
 "metadata": {
  "kernelspec": {
   "display_name": "Python 3 (ipykernel)",
   "language": "python",
   "name": "python3"
  },
  "language_info": {
   "codemirror_mode": {
    "name": "ipython",
    "version": 3
   },
   "file_extension": ".py",
   "mimetype": "text/x-python",
   "name": "python",
   "nbconvert_exporter": "python",
   "pygments_lexer": "ipython3",
   "version": "3.8.6"
  }
 },
 "nbformat": 4,
 "nbformat_minor": 5
}
