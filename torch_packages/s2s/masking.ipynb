{
 "cells": [
  {
   "cell_type": "code",
   "execution_count": 2,
   "id": "054d2f88-ac3f-4f71-bbca-576dc458d194",
   "metadata": {},
   "outputs": [
    {
     "name": "stdout",
     "output_type": "stream",
     "text": [
      "tensor([[0.9823, 0.7815, 1.0630, 0.8885, 0.0000, 0.0000],\n",
      "        [0.8904, 0.8699, 1.0279, 0.8713, 0.0000, 0.0000],\n",
      "        [0.8231, 0.5911, 1.0434, 0.7836, 0.0000, 0.0000],\n",
      "        [1.0006, 0.8729, 1.2090, 0.8727, 0.0000, 0.0000],\n",
      "        [0.0000, 0.0000, 0.0000, 0.0000, 0.0000, 0.0000],\n",
      "        [0.0000, 0.0000, 0.0000, 0.0000, 0.0000, 0.0000]])\n"
     ]
    },
    {
     "data": {
      "text/plain": [
       "tensor([[0.9823, 0.7815, 1.0630, 0.8885,   -inf,   -inf],\n",
       "        [0.8904, 0.8699, 1.0279, 0.8713,   -inf,   -inf],\n",
       "        [0.8231, 0.5911, 1.0434, 0.7836,   -inf,   -inf],\n",
       "        [1.0006, 0.8729, 1.2090, 0.8727,   -inf,   -inf],\n",
       "        [  -inf,   -inf,   -inf,   -inf,   -inf,   -inf],\n",
       "        [  -inf,   -inf,   -inf,   -inf,   -inf,   -inf]])"
      ]
     },
     "execution_count": 2,
     "metadata": {},
     "output_type": "execute_result"
    }
   ],
   "source": [
    "import numpy as np\n",
    "import math\n",
    "import torch\n",
    "\n",
    "q = torch.Tensor([np.random.random(10),np.random.random(10),np.random.random(10), np.random.random(10), np.zeros((10,1)), np.zeros((10,1))])\n",
    "k = torch.Tensor([np.random.random(10),np.random.random(10),np.random.random(10), np.random.random(10), np.zeros((10,1)), np.zeros((10,1))])\n",
    "scores = torch.matmul(q, k.transpose(0,1)) / math.sqrt(10)\n",
    "mask = torch.Tensor([1,1,1,1,0,0])\n",
    "mask = mask.unsqueeze(1)\n",
    "print(scores)\n",
    "scores.masked_fill_(scores == 0, -np.inf)"
   ]
  },
  {
   "cell_type": "code",
   "execution_count": 61,
   "id": "a30ecba6-e3e0-4b32-a86c-5df056c88fc8",
   "metadata": {},
   "outputs": [
    {
     "data": {
      "text/plain": [
       "tensor([[-0.1468],\n",
       "        [-0.4982],\n",
       "        [-0.4473],\n",
       "        [-1.1490],\n",
       "        [ 1.3239],\n",
       "        [-0.4350],\n",
       "        [-0.3972],\n",
       "        [-0.2578],\n",
       "        [-1.3958],\n",
       "        [-0.1108]])"
      ]
     },
     "execution_count": 61,
     "metadata": {},
     "output_type": "execute_result"
    }
   ],
   "source": [
    "aa = scores.new_ones(10,1).bool()\n",
    "y = torch.randn(10,1)\n",
    "y.masked_fill_(~aa, 1)"
   ]
  },
  {
   "cell_type": "code",
   "execution_count": 62,
   "id": "d426deac-0661-48c3-bc23-f12e215a1b0a",
   "metadata": {},
   "outputs": [
    {
     "data": {
      "text/plain": [
       "tensor([[False, False, False, False,  True,  True],\n",
       "        [False, False, False, False,  True,  True],\n",
       "        [False, False, False, False,  True,  True],\n",
       "        [False, False, False, False,  True,  True],\n",
       "        [ True,  True,  True,  True,  True,  True],\n",
       "        [ True,  True,  True,  True,  True,  True]])"
      ]
     },
     "execution_count": 62,
     "metadata": {},
     "output_type": "execute_result"
    }
   ],
   "source": [
    "scores == 0"
   ]
  },
  {
   "cell_type": "code",
   "execution_count": 6,
   "id": "3580fbb4-82bb-42f3-a96d-867d9c1c3cfd",
   "metadata": {},
   "outputs": [
    {
     "data": {
      "text/plain": [
       "tensor([[True, True, True, True, True],\n",
       "        [True, True, True, True, True],\n",
       "        [True, True, True, True, True],\n",
       "        [True, True, True, True, True],\n",
       "        [True, True, True, True, True]])"
      ]
     },
     "execution_count": 6,
     "metadata": {},
     "output_type": "execute_result"
    }
   ],
   "source": [
    "torch.ones(5,5).bool() + torch.zeros(5,5).bool()"
   ]
  },
  {
   "cell_type": "code",
   "execution_count": null,
   "id": "7a77b5ca-6e8f-455e-ae65-7cf2996553ab",
   "metadata": {},
   "outputs": [],
   "source": []
  }
 ],
 "metadata": {
  "kernelspec": {
   "display_name": "Python 3 (ipykernel)",
   "language": "python",
   "name": "python3"
  },
  "language_info": {
   "codemirror_mode": {
    "name": "ipython",
    "version": 3
   },
   "file_extension": ".py",
   "mimetype": "text/x-python",
   "name": "python",
   "nbconvert_exporter": "python",
   "pygments_lexer": "ipython3",
   "version": "3.8.6"
  }
 },
 "nbformat": 4,
 "nbformat_minor": 5
}
