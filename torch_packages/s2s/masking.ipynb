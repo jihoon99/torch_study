{
 "cells": [
  {
   "cell_type": "code",
   "execution_count": 60,
   "id": "054d2f88-ac3f-4f71-bbca-576dc458d194",
   "metadata": {},
   "outputs": [
    {
     "name": "stdout",
     "output_type": "stream",
     "text": [
      "tensor([[1.0655, 0.6862, 0.6079, 0.6621, 0.0000, 0.0000],\n",
      "        [1.1476, 0.6267, 0.5015, 0.8298, 0.0000, 0.0000],\n",
      "        [1.1738, 0.8736, 0.7402, 0.8658, 0.0000, 0.0000],\n",
      "        [1.2497, 0.8126, 0.8301, 0.8752, 0.0000, 0.0000],\n",
      "        [0.0000, 0.0000, 0.0000, 0.0000, 0.0000, 0.0000],\n",
      "        [0.0000, 0.0000, 0.0000, 0.0000, 0.0000, 0.0000]])\n"
     ]
    }
   ],
   "source": [
    "import numpy as np\n",
    "import math\n",
    "\n",
    "q = torch.Tensor([np.random.random(10),np.random.random(10),np.random.random(10), np.random.random(10), np.zeros((10,1)), np.zeros((10,1))])\n",
    "k = torch.Tensor([np.random.random(10),np.random.random(10),np.random.random(10), np.random.random(10), np.zeros((10,1)), np.zeros((10,1))])\n",
    "scores = torch.matmul(q, k.transpose(0,1)) / math.sqrt(10)\n",
    "mask = torch.Tensor([1,1,1,1,0,0])\n",
    "mask = mask.unsqueeze(1)\n",
    "print(scores)\n",
    "scores.masked_fill_(scores == 0, -np.inf)"
   ]
  },
  {
   "cell_type": "code",
   "execution_count": 61,
   "id": "a30ecba6-e3e0-4b32-a86c-5df056c88fc8",
   "metadata": {},
   "outputs": [
    {
     "data": {
      "text/plain": [
       "tensor([[-0.1468],\n",
       "        [-0.4982],\n",
       "        [-0.4473],\n",
       "        [-1.1490],\n",
       "        [ 1.3239],\n",
       "        [-0.4350],\n",
       "        [-0.3972],\n",
       "        [-0.2578],\n",
       "        [-1.3958],\n",
       "        [-0.1108]])"
      ]
     },
     "execution_count": 61,
     "metadata": {},
     "output_type": "execute_result"
    }
   ],
   "source": [
    "aa = scores.new_ones(10,1).bool()\n",
    "y = torch.randn(10,1)\n",
    "y.masked_fill_(~aa, 1)"
   ]
  },
  {
   "cell_type": "code",
   "execution_count": 62,
   "id": "d426deac-0661-48c3-bc23-f12e215a1b0a",
   "metadata": {},
   "outputs": [
    {
     "data": {
      "text/plain": [
       "tensor([[False, False, False, False,  True,  True],\n",
       "        [False, False, False, False,  True,  True],\n",
       "        [False, False, False, False,  True,  True],\n",
       "        [False, False, False, False,  True,  True],\n",
       "        [ True,  True,  True,  True,  True,  True],\n",
       "        [ True,  True,  True,  True,  True,  True]])"
      ]
     },
     "execution_count": 62,
     "metadata": {},
     "output_type": "execute_result"
    }
   ],
   "source": [
    "scores == 0"
   ]
  }
 ],
 "metadata": {
  "kernelspec": {
   "display_name": "Python 3 (ipykernel)",
   "language": "python",
   "name": "python3"
  },
  "language_info": {
   "codemirror_mode": {
    "name": "ipython",
    "version": 3
   },
   "file_extension": ".py",
   "mimetype": "text/x-python",
   "name": "python",
   "nbconvert_exporter": "python",
   "pygments_lexer": "ipython3",
   "version": "3.8.6"
  }
 },
 "nbformat": 4,
 "nbformat_minor": 5
}
