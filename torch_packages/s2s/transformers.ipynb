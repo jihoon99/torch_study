{
 "cells": [
  {
   "cell_type": "code",
   "execution_count": 23,
   "id": "c0db8d6f-f3ce-47ce-a0dc-cbcd5c87e7eb",
   "metadata": {},
   "outputs": [],
   "source": [
    "import torch\n",
    "\n",
    "s_data = torch.randn(64,3,10)"
   ]
  },
  {
   "cell_type": "code",
   "execution_count": 24,
   "id": "8eeb9242-8737-45a0-9c32-3bddeac0a49a",
   "metadata": {},
   "outputs": [],
   "source": [
    "QWs = s_data.split(2, dim = -1)"
   ]
  },
  {
   "cell_type": "code",
   "execution_count": 34,
   "id": "3e2093e3-fabd-4580-90a3-406de2b4b1f9",
   "metadata": {},
   "outputs": [],
   "source": [
    "QWs = torch.cat(QWs, dim = 0)"
   ]
  },
  {
   "cell_type": "code",
   "execution_count": 27,
   "id": "3d5999f4-530b-416d-8a8b-9a3bc2e750fe",
   "metadata": {},
   "outputs": [],
   "source": [
    "mask = torch.randn(64,3, 2)\n",
    "\n",
    "# torch.cat([mask for _ in range(10)], dim = 0)"
   ]
  },
  {
   "cell_type": "code",
   "execution_count": 28,
   "id": "9a931572-160a-4cf0-94f7-42bfd157a57e",
   "metadata": {},
   "outputs": [],
   "source": [
    "soft = torch.nn.Softmax(dim=-1)"
   ]
  },
  {
   "cell_type": "code",
   "execution_count": 29,
   "id": "7f051207-7b13-4504-979a-dccc4ee6414a",
   "metadata": {},
   "outputs": [
    {
     "data": {
      "text/plain": [
       "tensor([0.4086, 0.5914])"
      ]
     },
     "execution_count": 29,
     "metadata": {},
     "output_type": "execute_result"
    }
   ],
   "source": [
    "soft(mask)[0,0,:]"
   ]
  },
  {
   "cell_type": "code",
   "execution_count": 41,
   "id": "31359166-2c29-4163-a32d-30cfc5edfe14",
   "metadata": {},
   "outputs": [
    {
     "data": {
      "text/plain": [
       "torch.Size([64, 3, 10])"
      ]
     },
     "execution_count": 41,
     "metadata": {},
     "output_type": "execute_result"
    }
   ],
   "source": [
    "torch.cat(QWs.split(64, dim = 0), dim = -1).shape"
   ]
  },
  {
   "cell_type": "code",
   "execution_count": 40,
   "id": "9b1b03e7-d185-4465-83e1-f52da6ebcf83",
   "metadata": {},
   "outputs": [
    {
     "data": {
      "text/plain": [
       "torch.Size([320, 3, 2])"
      ]
     },
     "execution_count": 40,
     "metadata": {},
     "output_type": "execute_result"
    }
   ],
   "source": [
    "QWs.shape"
   ]
  },
  {
   "cell_type": "markdown",
   "id": "5f8d0efd-e2d6-499f-884d-36e6bcdc7006",
   "metadata": {},
   "source": [
    "# transformer.py, _generate_mask, mask.unsqueeze(1).expand(*x.size(), mask.size(-1))"
   ]
  },
  {
   "cell_type": "code",
   "execution_count": 56,
   "id": "1e87e19d-67c0-4f50-8afd-0daa5442abcd",
   "metadata": {},
   "outputs": [],
   "source": [
    "a = torch.randn(4)\n",
    "b = torch.randn(3)\n",
    "c = torch.randn(2)"
   ]
  },
  {
   "cell_type": "code",
   "execution_count": 57,
   "id": "1d4b2dfe-49bb-4a1d-bcb2-6b690c2dc3aa",
   "metadata": {},
   "outputs": [],
   "source": [
    "kk = torch.zeros(3,4)\n",
    "kk[0,:len(a)] = a\n",
    "kk[1,:len(b)] = b\n",
    "kk[2,:len(c)] = c"
   ]
  },
  {
   "cell_type": "code",
   "execution_count": 62,
   "id": "24acf447-c4fc-4d6f-8278-1ae793f9cb4d",
   "metadata": {},
   "outputs": [],
   "source": [
    "@torch.no_grad()\n",
    "def _generate_mask(x, length):\n",
    "    '''\n",
    "\n",
    "    에) length : [4,3,2]\n",
    "    '''\n",
    "    mask = []\n",
    "\n",
    "    max_length = max(length)\n",
    "    for l in length:\n",
    "        if max_length - l > 0:\n",
    "            # If the length is shorter than maximum length among samples,\n",
    "            # set last few values to be 1s to remove attention weight.\n",
    "            mask += [torch.cat([x.new_ones(1, l).zero_(),\n",
    "                                x.new_ones(1, (max_length - l))\n",
    "                                ], dim=-1)]\n",
    "        else:\n",
    "            # If length of sample equals to maximum length among samples,\n",
    "            # set every value in mask to be 0.\n",
    "            mask += [x.new_ones(1, l).zero_()]\n",
    "\n",
    "    mask = torch.cat(mask, dim=0).bool()\n",
    "    # |mask| = (batch_size, max_length)\n",
    "\n",
    "    return mask"
   ]
  },
  {
   "cell_type": "code",
   "execution_count": 63,
   "id": "f29d0c5e-543b-4ef3-b4f3-1af141eeb8c0",
   "metadata": {},
   "outputs": [],
   "source": [
    "mask = _generate_mask(kk, [4,3,2])"
   ]
  },
  {
   "cell_type": "code",
   "execution_count": 77,
   "id": "7226544a-42fe-4548-9ac2-5b7448c56e5e",
   "metadata": {},
   "outputs": [
    {
     "data": {
      "text/plain": [
       "tensor([[False, False, False, False],\n",
       "        [False, False, False,  True],\n",
       "        [False, False,  True,  True]])"
      ]
     },
     "execution_count": 77,
     "metadata": {},
     "output_type": "execute_result"
    }
   ],
   "source": [
    "mask"
   ]
  },
  {
   "cell_type": "code",
   "execution_count": 74,
   "id": "8586d6e1-0101-4b08-86ea-8f96e5ea87c2",
   "metadata": {},
   "outputs": [
    {
     "data": {
      "text/plain": [
       "torch.Size([3, 4])"
      ]
     },
     "execution_count": 74,
     "metadata": {},
     "output_type": "execute_result"
    }
   ],
   "source": [
    "mask.shape"
   ]
  },
  {
   "cell_type": "code",
   "execution_count": 78,
   "id": "b035ce2f-a29d-40f0-a5e1-1d98bed16a9d",
   "metadata": {},
   "outputs": [
    {
     "data": {
      "text/plain": [
       "(torch.Size([3, 4]), 4)"
      ]
     },
     "execution_count": 78,
     "metadata": {},
     "output_type": "execute_result"
    }
   ],
   "source": [
    "kk.size(), mask.size(-1)"
   ]
  },
  {
   "cell_type": "code",
   "execution_count": 71,
   "id": "f22f1c70-3850-45f6-9e79-3e47ee53e35e",
   "metadata": {},
   "outputs": [
    {
     "data": {
      "text/plain": [
       "tensor([[[False, False, False, False],\n",
       "         [False, False, False, False],\n",
       "         [False, False, False, False],\n",
       "         [False, False, False, False]],\n",
       "\n",
       "        [[False, False, False,  True],\n",
       "         [False, False, False,  True],\n",
       "         [False, False, False,  True],\n",
       "         [False, False, False,  True]],\n",
       "\n",
       "        [[False, False,  True,  True],\n",
       "         [False, False,  True,  True],\n",
       "         [False, False,  True,  True],\n",
       "         [False, False,  True,  True]]])"
      ]
     },
     "execution_count": 71,
     "metadata": {},
     "output_type": "execute_result"
    }
   ],
   "source": [
    "mask.unsqueeze(1).expand(*kk.size(), mask.size(-1))"
   ]
  },
  {
   "cell_type": "code",
   "execution_count": 72,
   "id": "aa41b032-52dd-4f38-bfed-6e9099c0bc80",
   "metadata": {},
   "outputs": [
    {
     "data": {
      "text/plain": [
       "tensor([[[False, False, False, False]],\n",
       "\n",
       "        [[False, False, False,  True]],\n",
       "\n",
       "        [[False, False,  True,  True]]])"
      ]
     },
     "execution_count": 72,
     "metadata": {},
     "output_type": "execute_result"
    }
   ],
   "source": [
    "mask.unsqueeze(1)"
   ]
  },
  {
   "cell_type": "code",
   "execution_count": null,
   "id": "3c83dd10-8b7b-46aa-a498-a3119754ee37",
   "metadata": {},
   "outputs": [],
   "source": []
  }
 ],
 "metadata": {
  "kernelspec": {
   "display_name": "Python 3 (ipykernel)",
   "language": "python",
   "name": "python3"
  },
  "language_info": {
   "codemirror_mode": {
    "name": "ipython",
    "version": 3
   },
   "file_extension": ".py",
   "mimetype": "text/x-python",
   "name": "python",
   "nbconvert_exporter": "python",
   "pygments_lexer": "ipython3",
   "version": "3.8.6"
  }
 },
 "nbformat": 4,
 "nbformat_minor": 5
}
