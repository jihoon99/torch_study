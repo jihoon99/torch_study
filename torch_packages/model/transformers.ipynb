{
 "cells": [
  {
   "cell_type": "code",
   "execution_count": 23,
   "id": "c0db8d6f-f3ce-47ce-a0dc-cbcd5c87e7eb",
   "metadata": {},
   "outputs": [],
   "source": [
    "import torch\n",
    "\n",
    "s_data = torch.randn(64,3,10)"
   ]
  },
  {
   "cell_type": "code",
   "execution_count": 24,
   "id": "8eeb9242-8737-45a0-9c32-3bddeac0a49a",
   "metadata": {},
   "outputs": [],
   "source": [
    "QWs = s_data.split(2, dim = -1)"
   ]
  },
  {
   "cell_type": "code",
   "execution_count": 34,
   "id": "3e2093e3-fabd-4580-90a3-406de2b4b1f9",
   "metadata": {},
   "outputs": [],
   "source": [
    "QWs = torch.cat(QWs, dim = 0)"
   ]
  },
  {
   "cell_type": "code",
   "execution_count": 27,
   "id": "3d5999f4-530b-416d-8a8b-9a3bc2e750fe",
   "metadata": {},
   "outputs": [],
   "source": [
    "mask = torch.randn(64,3, 2)\n",
    "\n",
    "# torch.cat([mask for _ in range(10)], dim = 0)"
   ]
  },
  {
   "cell_type": "code",
   "execution_count": 28,
   "id": "9a931572-160a-4cf0-94f7-42bfd157a57e",
   "metadata": {},
   "outputs": [],
   "source": [
    "soft = torch.nn.Softmax(dim=-1)"
   ]
  },
  {
   "cell_type": "code",
   "execution_count": 29,
   "id": "7f051207-7b13-4504-979a-dccc4ee6414a",
   "metadata": {},
   "outputs": [
    {
     "data": {
      "text/plain": [
       "tensor([0.4086, 0.5914])"
      ]
     },
     "execution_count": 29,
     "metadata": {},
     "output_type": "execute_result"
    }
   ],
   "source": [
    "soft(mask)[0,0,:]"
   ]
  },
  {
   "cell_type": "code",
   "execution_count": 41,
   "id": "31359166-2c29-4163-a32d-30cfc5edfe14",
   "metadata": {},
   "outputs": [
    {
     "data": {
      "text/plain": [
       "torch.Size([64, 3, 10])"
      ]
     },
     "execution_count": 41,
     "metadata": {},
     "output_type": "execute_result"
    }
   ],
   "source": [
    "torch.cat(QWs.split(64, dim = 0), dim = -1).shape"
   ]
  },
  {
   "cell_type": "code",
   "execution_count": 40,
   "id": "9b1b03e7-d185-4465-83e1-f52da6ebcf83",
   "metadata": {},
   "outputs": [
    {
     "data": {
      "text/plain": [
       "torch.Size([320, 3, 2])"
      ]
     },
     "execution_count": 40,
     "metadata": {},
     "output_type": "execute_result"
    }
   ],
   "source": [
    "QWs.shape"
   ]
  },
  {
   "cell_type": "markdown",
   "id": "5f8d0efd-e2d6-499f-884d-36e6bcdc7006",
   "metadata": {},
   "source": [
    "# transformer.py, _generate_mask, mask.unsqueeze(1).expand(*x.size(), mask.size(-1))"
   ]
  },
  {
   "cell_type": "code",
   "execution_count": 122,
   "id": "1e87e19d-67c0-4f50-8afd-0daa5442abcd",
   "metadata": {},
   "outputs": [],
   "source": [
    "a = torch.randn(4)\n",
    "b = torch.randn(3)\n",
    "c = torch.randn(2)"
   ]
  },
  {
   "cell_type": "code",
   "execution_count": 123,
   "id": "1d4b2dfe-49bb-4a1d-bcb2-6b690c2dc3aa",
   "metadata": {},
   "outputs": [],
   "source": [
    "kk = torch.zeros(3,4)\n",
    "kk[0,:len(a)] = a\n",
    "kk[1,:len(b)] = b\n",
    "kk[2,:len(c)] = c"
   ]
  },
  {
   "cell_type": "code",
   "execution_count": 124,
   "id": "24acf447-c4fc-4d6f-8278-1ae793f9cb4d",
   "metadata": {},
   "outputs": [],
   "source": [
    "@torch.no_grad()\n",
    "def _generate_mask(x, length):\n",
    "    '''\n",
    "\n",
    "    에) length : [4,3,2]\n",
    "    '''\n",
    "    mask = []\n",
    "\n",
    "    max_length = max(length)\n",
    "    for l in length:\n",
    "        if max_length - l > 0:\n",
    "            # If the length is shorter than maximum length among samples,\n",
    "            # set last few values to be 1s to remove attention weight.\n",
    "            mask += [torch.cat([x.new_ones(1, l).zero_(),\n",
    "                                x.new_ones(1, (max_length - l))\n",
    "                                ], dim=-1)]\n",
    "        else:\n",
    "            # If length of sample equals to maximum length among samples,\n",
    "            # set every value in mask to be 0.\n",
    "            mask += [x.new_ones(1, l).zero_()]\n",
    "\n",
    "    mask = torch.cat(mask, dim=0).bool()\n",
    "    # |mask| = (batch_size, max_length)\n",
    "\n",
    "    return mask"
   ]
  },
  {
   "cell_type": "code",
   "execution_count": 125,
   "id": "f29d0c5e-543b-4ef3-b4f3-1af141eeb8c0",
   "metadata": {},
   "outputs": [],
   "source": [
    "mask = _generate_mask(kk, [4,3,2])"
   ]
  },
  {
   "cell_type": "code",
   "execution_count": 128,
   "id": "7226544a-42fe-4548-9ac2-5b7448c56e5e",
   "metadata": {},
   "outputs": [
    {
     "data": {
      "text/plain": [
       "tensor([[False, False, False, False],\n",
       "        [False, False, False,  True],\n",
       "        [False, False,  True,  True]])"
      ]
     },
     "execution_count": 128,
     "metadata": {},
     "output_type": "execute_result"
    }
   ],
   "source": [
    "mask"
   ]
  },
  {
   "cell_type": "code",
   "execution_count": 74,
   "id": "8586d6e1-0101-4b08-86ea-8f96e5ea87c2",
   "metadata": {},
   "outputs": [
    {
     "data": {
      "text/plain": [
       "torch.Size([3, 4])"
      ]
     },
     "execution_count": 74,
     "metadata": {},
     "output_type": "execute_result"
    }
   ],
   "source": [
    "mask.shape"
   ]
  },
  {
   "cell_type": "code",
   "execution_count": 78,
   "id": "b035ce2f-a29d-40f0-a5e1-1d98bed16a9d",
   "metadata": {},
   "outputs": [
    {
     "data": {
      "text/plain": [
       "(torch.Size([3, 4]), 4)"
      ]
     },
     "execution_count": 78,
     "metadata": {},
     "output_type": "execute_result"
    }
   ],
   "source": [
    "kk.size(), mask.size(-1)"
   ]
  },
  {
   "cell_type": "code",
   "execution_count": 87,
   "id": "74e91344-5d9b-4b70-8ac7-10803231d5e9",
   "metadata": {},
   "outputs": [
    {
     "data": {
      "text/plain": [
       "torch.Size([3, 4])"
      ]
     },
     "execution_count": 87,
     "metadata": {},
     "output_type": "execute_result"
    }
   ],
   "source": [
    "kk.shape"
   ]
  },
  {
   "cell_type": "code",
   "execution_count": 100,
   "id": "f22f1c70-3850-45f6-9e79-3e47ee53e35e",
   "metadata": {},
   "outputs": [
    {
     "data": {
      "text/plain": [
       "tensor([[[False, False, False, False],\n",
       "         [False, False, False, False],\n",
       "         [False, False, False, False],\n",
       "         [False, False, False, False]],\n",
       "\n",
       "        [[False, False, False,  True],\n",
       "         [False, False, False,  True],\n",
       "         [False, False, False,  True],\n",
       "         [False, False, False,  True]],\n",
       "\n",
       "        [[False, False,  True,  True],\n",
       "         [False, False,  True,  True],\n",
       "         [False, False,  True,  True],\n",
       "         [False, False,  True,  True]]])"
      ]
     },
     "execution_count": 100,
     "metadata": {},
     "output_type": "execute_result"
    }
   ],
   "source": [
    "mask.unsqueeze(1).expand((3,4, 4))"
   ]
  },
  {
   "cell_type": "code",
   "execution_count": 88,
   "id": "fff4ed2e-0435-48ac-a6a6-b1aadcc712ab",
   "metadata": {},
   "outputs": [
    {
     "data": {
      "text/plain": [
       "torch.Size([3, 1, 4])"
      ]
     },
     "execution_count": 88,
     "metadata": {},
     "output_type": "execute_result"
    }
   ],
   "source": [
    "mask.unsqueeze(1).shape"
   ]
  },
  {
   "cell_type": "code",
   "execution_count": null,
   "id": "3c83dd10-8b7b-46aa-a498-a3119754ee37",
   "metadata": {},
   "outputs": [],
   "source": []
  },
  {
   "cell_type": "code",
   "execution_count": null,
   "id": "523ddef4-89ce-4971-b6ee-77d9c0fed747",
   "metadata": {},
   "outputs": [],
   "source": []
  },
  {
   "cell_type": "code",
   "execution_count": 102,
   "id": "daa75757-737d-4138-8eb6-1286d5f2a7fb",
   "metadata": {},
   "outputs": [],
   "source": [
    "@torch.no_grad()\n",
    "def _generate_pos_enc(hidden_size, max_length):\n",
    "    '''\n",
    "    positioning encoding을 만들어 주는 함수.\n",
    "    return [hidden_size * max_length]\n",
    "\n",
    "    예) pos = 3(word) // dim_idx = 2 = 2*i\n",
    "\n",
    "                    pos\n",
    "        sin(  --------------- )\n",
    "                10^4(2*i/d)\n",
    "\n",
    "    '''\n",
    "    enc = torch.FloatTensor(max_length, hidden_size).zero_()\n",
    "    # |enc| = (max_length, hidden_size)\n",
    "\n",
    "    pos = torch.arange(0, max_length).unsqueeze(-1).float()\n",
    "    dim = torch.arange(0, hidden_size // 2).unsqueeze(0).float()\n",
    "    # |pos| = (max_length, 1)\n",
    "    # |dim| = (1, hidden_size // 2)\n",
    "\n",
    "    enc[:, 0::2] = torch.sin(pos / 1e+4**dim.div(float(hidden_size)))\n",
    "    enc[:, 1::2] = torch.cos(pos / 1e+4**dim.div(float(hidden_size)))\n",
    "\n",
    "    return enc"
   ]
  },
  {
   "cell_type": "code",
   "execution_count": 104,
   "id": "5ec09496-afa2-48bf-aa5d-11892cfca92a",
   "metadata": {},
   "outputs": [
    {
     "data": {
      "text/plain": [
       "torch.Size([10, 100])"
      ]
     },
     "execution_count": 104,
     "metadata": {},
     "output_type": "execute_result"
    }
   ],
   "source": [
    "_generate_pos_enc(100, 10).shape"
   ]
  },
  {
   "cell_type": "code",
   "execution_count": 115,
   "id": "2057056e-0c71-4762-9925-9e0b63af826d",
   "metadata": {},
   "outputs": [],
   "source": [
    "from torch import nn\n",
    "\n",
    "LS = nn.Softmax(dim=-1)"
   ]
  },
  {
   "cell_type": "code",
   "execution_count": 118,
   "id": "5e34eb7f-1d76-481b-901a-b9ed71cb31c7",
   "metadata": {},
   "outputs": [
    {
     "data": {
      "text/plain": [
       "tensor(1.0000)"
      ]
     },
     "execution_count": 118,
     "metadata": {},
     "output_type": "execute_result"
    }
   ],
   "source": [
    "LS(torch.randn(10,20,500))[0][0].sum()"
   ]
  },
  {
   "cell_type": "code",
   "execution_count": 107,
   "id": "5920f855-33e5-439f-af14-252571282337",
   "metadata": {},
   "outputs": [],
   "source": [
    "x = torch.randn(30,30)"
   ]
  },
  {
   "cell_type": "code",
   "execution_count": 110,
   "id": "e39f53d6-630c-4859-aa8e-7d7ec461ece8",
   "metadata": {},
   "outputs": [
    {
     "data": {
      "text/plain": [
       "tensor([[1., 1., 1., 1.],\n",
       "        [0., 1., 1., 1.],\n",
       "        [0., 0., 1., 1.],\n",
       "        [0., 0., 0., 1.]])"
      ]
     },
     "execution_count": 110,
     "metadata": {},
     "output_type": "execute_result"
    }
   ],
   "source": [
    "torch.triu(x.new_ones(4,4))"
   ]
  },
  {
   "cell_type": "code",
   "execution_count": null,
   "id": "b3fd3bee-6669-4702-b93a-326f203e5def",
   "metadata": {},
   "outputs": [],
   "source": []
  },
  {
   "cell_type": "code",
   "execution_count": null,
   "id": "591b7e2a-a965-4a28-9bd0-d7497eca0ad4",
   "metadata": {},
   "outputs": [],
   "source": []
  },
  {
   "cell_type": "code",
   "execution_count": 133,
   "id": "a9d413ee-8f1d-46cf-af1d-29fc49aa8743",
   "metadata": {},
   "outputs": [],
   "source": [
    "aa = nn.Sequential(\n",
    "    nn.Linear(400,200),\n",
    "    nn.Linear(200,100),\n",
    "    nn.Linear(100,50))"
   ]
  },
  {
   "cell_type": "code",
   "execution_count": 136,
   "id": "4c951c0c-4769-439e-8535-c5502ceba25e",
   "metadata": {},
   "outputs": [
    {
     "data": {
      "text/plain": [
       "3"
      ]
     },
     "execution_count": 136,
     "metadata": {},
     "output_type": "execute_result"
    }
   ],
   "source": [
    "len(aa._modules)"
   ]
  },
  {
   "cell_type": "code",
   "execution_count": 140,
   "id": "ad0c355b-91de-4c2f-9de9-19f400b407d1",
   "metadata": {},
   "outputs": [
    {
     "name": "stdout",
     "output_type": "stream",
     "text": [
      "Linear(in_features=400, out_features=200, bias=True)\n",
      "----------------\n",
      "Linear(in_features=200, out_features=100, bias=True)\n",
      "----------------\n",
      "Linear(in_features=100, out_features=50, bias=True)\n",
      "----------------\n"
     ]
    }
   ],
   "source": [
    "for block in aa._modules.values():\n",
    "    print(block)\n",
    "    print('----------------')"
   ]
  },
  {
   "cell_type": "code",
   "execution_count": null,
   "id": "12508f57-2770-4837-a09d-87abb1f346a7",
   "metadata": {},
   "outputs": [],
   "source": []
  }
 ],
 "metadata": {
  "kernelspec": {
   "display_name": "Python 3 (ipykernel)",
   "language": "python",
   "name": "python3"
  },
  "language_info": {
   "codemirror_mode": {
    "name": "ipython",
    "version": 3
   },
   "file_extension": ".py",
   "mimetype": "text/x-python",
   "name": "python",
   "nbconvert_exporter": "python",
   "pygments_lexer": "ipython3",
   "version": "3.8.6"
  }
 },
 "nbformat": 4,
 "nbformat_minor": 5
}
