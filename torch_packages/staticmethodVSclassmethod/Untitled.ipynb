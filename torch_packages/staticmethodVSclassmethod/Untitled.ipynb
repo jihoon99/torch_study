{
 "cells": [
  {
   "cell_type": "markdown",
   "id": "bd1adafc-a2c1-43e3-a1e3-d95d0b53397e",
   "metadata": {},
   "source": [
    "# https://burningrizen.tistory.com/220"
   ]
  },
  {
   "cell_type": "markdown",
   "id": "3c6cbe00-9862-45bc-a881-4a0ca8b87fc6",
   "metadata": {},
   "source": [
    "# [정적메소드] : 정의 - 클래스에서 직접 접근할 수 있는 메소드\n",
    "파이썬에서는 클래스에서 직접 접근할 수 있는 메소드는 두개가 있다.\n",
    "- staticmethod : 첫번째 인자로 클래스 cls를 입력한다.\n",
    "- classmethod : 별도의 인자가 없다. \\\n",
    "파이썬에서는 클래스임에도 불구하고 인스턴스에서도 접근이 가능한다.\n",
    "- 인스턴스 : 첫번째 인자로 self를 입력\n",
    "\n",
    "cf. 인스턴스란 : 클래스를 a라고 부여를 하면 이것을 인스턴스라 한다."
   ]
  },
  {
   "cell_type": "code",
   "execution_count": 1,
   "id": "b083eb8b-3aa3-4345-981d-621745bbfb25",
   "metadata": {},
   "outputs": [],
   "source": [
    "class CustomClass:\n",
    "\n",
    "    def instance_method(self, a, b):\n",
    "        return a + b\n",
    "\n",
    "    @classmethod\n",
    "    def class_method(cls, a, b):\n",
    "        return a + b\n",
    "\n",
    "    @staticmethod\n",
    "    def static_method(a, b):\n",
    "        return a + b"
   ]
  },
  {
   "cell_type": "code",
   "execution_count": 17,
   "id": "22ca6441-4c80-4720-9f0a-d30ccfff32cd",
   "metadata": {},
   "outputs": [],
   "source": [
    "class Language:\n",
    "    default_language = \"English\"\n",
    "\n",
    "    def __init__(self):\n",
    "        self.show = '나의 언어는' + self.default_language\n",
    "\n",
    "    @classmethod\n",
    "    def class_my_language(cls):\n",
    "        return cls()\n",
    "\n",
    "    @staticmethod\n",
    "    def static_my_language():\n",
    "        return Language()\n",
    "\n",
    "    def print_language(self):\n",
    "        print(self.show)\n",
    "\n",
    "    def testing():\n",
    "        print('testing')\n",
    "\n",
    "    def testing1(self):\n",
    "        print('testing1')\n",
    "        \n",
    "        \n",
    "class KoreanLanguage(Language):\n",
    "    default_language = \"한국어\""
   ]
  },
  {
   "cell_type": "code",
   "execution_count": 18,
   "id": "bdc61877-5a5d-4b4a-b981-8c8f35d5e81e",
   "metadata": {},
   "outputs": [
    {
     "name": "stdout",
     "output_type": "stream",
     "text": [
      "나의 언어는English\n",
      "나의 언어는한국어\n"
     ]
    }
   ],
   "source": [
    "korean = KoreanLanguage()\n",
    "\n",
    "static = KoreanLanguage.static_my_language()\n",
    "clas = KoreanLanguage.class_my_language()\n",
    "\n",
    "static.print_language()\n",
    "clas.print_language()\n"
   ]
  },
  {
   "cell_type": "code",
   "execution_count": 19,
   "id": "fc73fa3e-cfd9-4e36-8f4d-23e98379e460",
   "metadata": {},
   "outputs": [
    {
     "ename": "TypeError",
     "evalue": "testing() takes 0 positional arguments but 1 was given",
     "output_type": "error",
     "traceback": [
      "\u001b[0;31m---------------------------------------------------------------------------\u001b[0m",
      "\u001b[0;31mTypeError\u001b[0m                                 Traceback (most recent call last)",
      "\u001b[0;32m/var/folders/jk/t5vx8lsx1fs7nd9c58w611bh0000gn/T/ipykernel_20470/1697768183.py\u001b[0m in \u001b[0;36m<module>\u001b[0;34m\u001b[0m\n\u001b[0;32m----> 1\u001b[0;31m \u001b[0mkorean\u001b[0m\u001b[0;34m.\u001b[0m\u001b[0mtesting\u001b[0m\u001b[0;34m(\u001b[0m\u001b[0;34m)\u001b[0m \u001b[0;31m# 데코레이터를 설정하지 않은것은, 상속했을때 못가져온다. unless self를 통해 명명을 해준것이 아닌이상.\u001b[0m\u001b[0;34m\u001b[0m\u001b[0;34m\u001b[0m\u001b[0m\n\u001b[0m",
      "\u001b[0;31mTypeError\u001b[0m: testing() takes 0 positional arguments but 1 was given"
     ]
    }
   ],
   "source": [
    "korean.testing() # 데코레이터를 설정하지 않은것은, 상속했을때 못가져온다. unless self를 통해 명명을 해준것이 아닌이상."
   ]
  },
  {
   "cell_type": "code",
   "execution_count": 20,
   "id": "9b35dcf0-1f93-4c15-9677-e533765166a6",
   "metadata": {},
   "outputs": [
    {
     "name": "stdout",
     "output_type": "stream",
     "text": [
      "testing1\n"
     ]
    }
   ],
   "source": [
    "korean.testing1()"
   ]
  },
  {
   "cell_type": "code",
   "execution_count": null,
   "id": "32e16fb4-19dd-4928-8581-7d94e3040b48",
   "metadata": {},
   "outputs": [],
   "source": []
  }
 ],
 "metadata": {
  "kernelspec": {
   "display_name": "Python 3 (ipykernel)",
   "language": "python",
   "name": "python3"
  },
  "language_info": {
   "codemirror_mode": {
    "name": "ipython",
    "version": 3
   },
   "file_extension": ".py",
   "mimetype": "text/x-python",
   "name": "python",
   "nbconvert_exporter": "python",
   "pygments_lexer": "ipython3",
   "version": "3.8.6"
  }
 },
 "nbformat": 4,
 "nbformat_minor": 5
}
